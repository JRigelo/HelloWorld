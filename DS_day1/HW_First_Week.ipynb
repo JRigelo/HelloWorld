{
 "cells": [
  {
   "cell_type": "markdown",
   "metadata": {},
   "source": [
    "# Homework (it's just the stuff you do at home, doesn't have to be considered work unless you want it to). Be sure to check out the links I suggest at the end if Data Science is something you can see yourself doing in the future. "
   ]
  },
  {
   "cell_type": "markdown",
   "metadata": {},
   "source": [
    "### Run the below code by pressing Shift + Enter. It will import the necessary libraries to run your code and will also create the DataFrame we will be working with."
   ]
  },
  {
   "cell_type": "code",
   "execution_count": null,
   "metadata": {
    "collapsed": false
   },
   "outputs": [],
   "source": [
    "import pandas as pd\n",
    "import matplotlib.pyplot as plt\n",
    "import seaborn as sns\n",
    "%matplotlib inline \n",
    "\n",
    "#Fixing Pandas options to display all rows\n",
    "pd.set_option('display.max_rows', 1000)\n",
    "\n",
    "#This line of code below utilizes the 'pandas' library to create a DataFrame from the \n",
    "#data we are passing it. In this case 'train.csv'.\n",
    "data = pd.read_csv('train.csv')"
   ]
  },
  {
   "cell_type": "markdown",
   "metadata": {},
   "source": [
    "#### It is very useful to understand the data we are working with. The methods below are useful ways to explore the data we have imported."
   ]
  },
  {
   "cell_type": "code",
   "execution_count": null,
   "metadata": {
    "collapsed": false
   },
   "outputs": [],
   "source": [
    "#This is a very useful way to get a quick look at your data. In this case I am getting the \n",
    "#first five rows from the DataFrame. Put 10 in place of 5 and see what happens.\n",
    "data.head(5)"
   ]
  },
  {
   "cell_type": "code",
   "execution_count": null,
   "metadata": {
    "collapsed": false
   },
   "outputs": [],
   "source": [
    "#You might guess what this returns...\n",
    "data.columns\n",
    "#The columns of the DataFrame, aka the 'features'."
   ]
  },
  {
   "cell_type": "code",
   "execution_count": null,
   "metadata": {
    "collapsed": false
   },
   "outputs": [],
   "source": [
    "#This will return an array of the columns and their associated counts, as well as the type\n",
    "#of objects they are. For instance, there are 891 objects in the 'Survived' column, and\n",
    "#they are all integers, indicated by 'int64'. Age on the other hand only has 714 objects\n",
    "#and they are float objects, i.e. 4 is an integer while 4.0 is a float.\n",
    "data.info()"
   ]
  },
  {
   "cell_type": "code",
   "execution_count": null,
   "metadata": {
    "collapsed": false
   },
   "outputs": [],
   "source": [
    "#Run this code and see if you can interpret what it means.\n",
    "data.describe()\n",
    "#Remember Google is your friend. I will frequently use it when trying to remember what\n",
    "#an exact method or function does. Try looking up 'pandas.dataframe.describe' if you need\n",
    "#any clarification for what is going on."
   ]
  },
  {
   "cell_type": "code",
   "execution_count": null,
   "metadata": {
    "collapsed": false
   },
   "outputs": [],
   "source": [
    "#Below are two different ways to return the 'Sex' Column. One is commented out with a'#'.\n",
    "#After running this code once. Delete the '#' and see what happens.\n",
    "data['Sex']\n",
    "#data.Sex"
   ]
  },
  {
   "cell_type": "markdown",
   "metadata": {},
   "source": [
    "#### '#'s are used to comment out code that you might not want to run. It's mainly used to make comments about your code so you won't forget what it is that the code actually does (trust me, that does happen... a lot)."
   ]
  },
  {
   "cell_type": "code",
   "execution_count": null,
   "metadata": {
    "collapsed": false
   },
   "outputs": [],
   "source": [
    "#Using len will return the length of a column, i.e. the number of rows in that column. \n",
    "#All columns should have the same number of rows, though some of those rows will be blank.\n",
    "len(data.Cabin)"
   ]
  },
  {
   "cell_type": "code",
   "execution_count": null,
   "metadata": {
    "collapsed": false
   },
   "outputs": [],
   "source": [
    "#This will show you the unique objects in the Cabin columns, in this case unique \n",
    "#rooms.\n",
    "data.Cabin.unique()\n",
    "#After running this code once, try calling len on the list to see the number of unique rooms."
   ]
  },
  {
   "cell_type": "code",
   "execution_count": null,
   "metadata": {
    "collapsed": false
   },
   "outputs": [],
   "source": [
    "#Remember how to find the mean of a column?\n",
    "#Try determining the mean fare price by calling .mean() on the Fare column.\n",
    "#Here's a start.\n",
    "data.Fare"
   ]
  },
  {
   "cell_type": "markdown",
   "metadata": {},
   "source": [
    "# Explore the DataFrame. Feel free to mess up. A lot of programming is trial and error. It's what leads to creating something really incredible and uniquely you. Your code is bound to look different than other people's. "
   ]
  },
  {
   "cell_type": "markdown",
   "metadata": {},
   "source": [
    "## Here's some code to give you an idea of what you can do. Don't be intimidated by it. Be confident that with time you will be able to do all of this and more, even cooler stuff. "
   ]
  },
  {
   "cell_type": "markdown",
   "metadata": {},
   "source": [
    "### Run the code first and then play around with it as much as you want."
   ]
  },
  {
   "cell_type": "markdown",
   "metadata": {},
   "source": [
    "#### Graphing Features Against Survival\n"
   ]
  },
  {
   "cell_type": "code",
   "execution_count": null,
   "metadata": {
    "collapsed": false
   },
   "outputs": [],
   "source": [
    "print \"Number of passengers: {}\".format(len(data))\n",
    "for feature in data.columns:\t\n",
    "    print \"{} Null: {}\".format(feature, sum(data[feature].isnull()))"
   ]
  },
  {
   "cell_type": "code",
   "execution_count": null,
   "metadata": {
    "collapsed": false
   },
   "outputs": [],
   "source": [
    "sns.set_style(\"whitegrid\")\n",
    "sns.barplot(x='Sex', y=\"Survived\", data=data)"
   ]
  },
  {
   "cell_type": "markdown",
   "metadata": {},
   "source": [
    "Sex obviously has a strong signal, females are much more likely to survive.\n"
   ]
  },
  {
   "cell_type": "code",
   "execution_count": null,
   "metadata": {
    "collapsed": false
   },
   "outputs": [],
   "source": [
    "sns.barplot(x='Pclass', y=\"Survived\", data=data)   "
   ]
  },
  {
   "cell_type": "markdown",
   "metadata": {},
   "source": [
    "Passengers in a higher (closer to 1) Pclass were more likely to survive."
   ]
  },
  {
   "cell_type": "code",
   "execution_count": null,
   "metadata": {
    "collapsed": false
   },
   "outputs": [],
   "source": [
    "sns.barplot(x='Embarked', y=\"Survived\", data=data)   "
   ]
  },
  {
   "cell_type": "markdown",
   "metadata": {},
   "source": [
    "Although people embarking at port C have a higher percentage of survival, I am suspect of this feature. Embarking port may only be correlated with wealth, which would be better indicated by Fare or Pclass.\n"
   ]
  },
  {
   "cell_type": "code",
   "execution_count": null,
   "metadata": {
    "collapsed": false
   },
   "outputs": [],
   "source": [
    "data['Embarked'].value_counts(dropna=False)"
   ]
  },
  {
   "cell_type": "code",
   "execution_count": null,
   "metadata": {
    "collapsed": false
   },
   "outputs": [],
   "source": [
    "# Draw a nested violinplot and split the violins for easier comparison\n",
    "ax = sns.violinplot(x=\"Sex\", y=\"Fare\", hue=\"Survived\", data=data, split=True, inner=\"quart\", bw=.2, cut=0)\n",
    "ax.set(ylim=(-10, 150))\n",
    "ax"
   ]
  },
  {
   "cell_type": "markdown",
   "metadata": {},
   "source": [
    "Male and Female passengers who have a higher Fare are more likely to survive."
   ]
  },
  {
   "cell_type": "code",
   "execution_count": null,
   "metadata": {
    "collapsed": false
   },
   "outputs": [],
   "source": [
    "# Draw a nested violinplot and split the violins for easier comparison\n",
    "ax1 = sns.violinplot(x=\"Sex\", y=\"Age\", hue=\"Survived\", data=data, split=True, inner=\"quart\", bw=.2, cut=0)\n",
    "ax1.set(ylim=(-10, 90))\n",
    "ax1"
   ]
  },
  {
   "cell_type": "markdown",
   "metadata": {},
   "source": [
    "There doesn't seem to be an obvious, strong connection between age and survival, but perhaps those below Age 10 may be more likely to survive."
   ]
  },
  {
   "cell_type": "markdown",
   "metadata": {},
   "source": [
    "# Additional Online Resources to learn Python and Data Science\n",
    "* CodeAcademy:\n",
    "https://www.codecademy.com/learn/python\n",
    "\n",
    "* Datacamp:\n",
    "https://www.datacamp.com/Learn-Python\n",
    "\n",
    "* Dataquest:\n",
    "https://www.dataquest.io/dashboard\n",
    "\n",
    "* Udacity:\n",
    "https://www.udacity.com/course/intro-to-data-analysis--ud170\n",
    "\n",
    "* CodeWars:\n",
    "https://www.codewars.com/\n",
    "\n",
    "* HackerRank:\n",
    "https://www.hackerrank.com/\n",
    "\n",
    "# Definitely check these out. Keep to it and you'll be a master programmer. Create. Invent. Inspire.\n"
   ]
  },
  {
   "cell_type": "code",
   "execution_count": null,
   "metadata": {
    "collapsed": true
   },
   "outputs": [],
   "source": []
  }
 ],
 "metadata": {
  "kernelspec": {
   "display_name": "Python [Root]",
   "language": "python",
   "name": "Python [Root]"
  },
  "language_info": {
   "codemirror_mode": {
    "name": "ipython",
    "version": 2
   },
   "file_extension": ".py",
   "mimetype": "text/x-python",
   "name": "python",
   "nbconvert_exporter": "python",
   "pygments_lexer": "ipython2",
   "version": "2.7.12"
  }
 },
 "nbformat": 4,
 "nbformat_minor": 0
}
