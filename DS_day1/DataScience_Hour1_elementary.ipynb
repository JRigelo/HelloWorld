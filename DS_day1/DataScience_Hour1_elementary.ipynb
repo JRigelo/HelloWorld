{
 "cells": [
  {
   "cell_type": "markdown",
   "metadata": {
    "collapsed": true
   },
   "source": [
    "# Data Science!   -  Day #1"
   ]
  },
  {
   "cell_type": "markdown",
   "metadata": {},
   "source": [
    "You might be wondering what this program is that just opened up in your web browser. It's called Jupyter. It's a web application that allows us to type Python code into a cell, run the code, and get an output below the cell. Let's give it a try below!"
   ]
  },
  {
   "cell_type": "markdown",
   "metadata": {},
   "source": [
    "Click on the cell below and hit **SHIFT + ENTER**"
   ]
  },
  {
   "cell_type": "code",
   "execution_count": null,
   "metadata": {
    "collapsed": false
   },
   "outputs": [],
   "source": [
    "name = 'World'\n",
    "print 'Hello, {}!'.format(name)"
   ]
  },
  {
   "cell_type": "markdown",
   "metadata": {},
   "source": [
    "You just ran your first Python code! Now click back on the cell to where is says  **`name = 'World'`**  and change 'World' to *your* name (don't forget the quotation marks). Now hit **SHIFT + ENTER** again. \n",
    "\n",
    "Any cell can be edited and rerun at any time. Pretty cool."
   ]
  },
  {
   "cell_type": "markdown",
   "metadata": {},
   "source": [
    "The primary function of a data scientist is to extract useful information from data. So let's import some data!"
   ]
  },
  {
   "cell_type": "markdown",
   "metadata": {},
   "source": [
    "# Python"
   ]
  },
  {
   "cell_type": "code",
   "execution_count": null,
   "metadata": {
    "collapsed": false
   },
   "outputs": [],
   "source": [
    "#This adds up to 11. Change the numbers adding two numbers add up to 15. \n",
    "print 3 + 8"
   ]
  },
  {
   "cell_type": "code",
   "execution_count": null,
   "metadata": {
    "collapsed": false
   },
   "outputs": [],
   "source": [
    "#Try changing the multiplied numbers. \n",
    "print 4 * 2"
   ]
  },
  {
   "cell_type": "code",
   "execution_count": null,
   "metadata": {
    "collapsed": false
   },
   "outputs": [],
   "source": [
    "#Try changing the devided numbers. \n",
    "print 9 / 3"
   ]
  },
  {
   "cell_type": "code",
   "execution_count": null,
   "metadata": {
    "collapsed": false
   },
   "outputs": [],
   "source": [
    "#What number are we going to output here?\n",
    "number1 = 12\n",
    "number2 = 10\n",
    "print number1 - number2"
   ]
  },
  {
   "cell_type": "code",
   "execution_count": null,
   "metadata": {
    "collapsed": false
   },
   "outputs": [],
   "source": [
    "#Count the fruit.\n",
    "apples = 5\n",
    "bananas = 7\n",
    "oranges = 2\n",
    "number_of_fruit = apples + bananas + oranges\n",
    "\n",
    "print \"We have {} pieces of fruit.\".format(number_of_fruit) "
   ]
  },
  {
   "cell_type": "code",
   "execution_count": 3,
   "metadata": {
    "collapsed": false
   },
   "outputs": [
    {
     "ename": "SyntaxError",
     "evalue": "invalid syntax (<ipython-input-3-7c276cc8f42b>, line 2)",
     "output_type": "error",
     "traceback": [
      "\u001b[0;36m  File \u001b[0;32m\"<ipython-input-3-7c276cc8f42b>\"\u001b[0;36m, line \u001b[0;32m2\u001b[0m\n\u001b[0;31m    birthday_this_year = ?\u001b[0m\n\u001b[0m                         ^\u001b[0m\n\u001b[0;31mSyntaxError\u001b[0m\u001b[0;31m:\u001b[0m invalid syntax\n"
     ]
    }
   ],
   "source": [
    "#Have you had a birthday this year? True or False\n",
    "birthday_this_year = ?\n",
    "birthyear = ?\n",
    "current_year = 2016\n",
    "\n",
    "age = current_year - birthyear\n",
    "if birthday_this_year == False: age -= 1\n",
    "\n",
    "print \"You are {} years old!\".format(age)"
   ]
  },
  {
   "cell_type": "markdown",
   "metadata": {},
   "source": [
    "# The RMS Titanic"
   ]
  },
  {
   "cell_type": "markdown",
   "metadata": {},
   "source": [
    "![](Images/titanic_boat.jpg)"
   ]
  },
  {
   "cell_type": "markdown",
   "metadata": {},
   "source": [
    "![](Images/Titanic_paper.jpg)"
   ]
  },
  {
   "cell_type": "markdown",
   "metadata": {},
   "source": [
    "Let's first load some libraries we might need for our analysis. If we imagine Python as a language, think of adding these libraries as adding additional words into our Python dictionary."
   ]
  },
  {
   "cell_type": "code",
   "execution_count": null,
   "metadata": {
    "collapsed": false
   },
   "outputs": [],
   "source": [
    "####################### Just run me  Shift + Enter  #######################\n",
    "#Importing Libaries \n",
    "import pandas as pd\n",
    "import matplotlib.pyplot as plt\n",
    "%matplotlib inline \n",
    "\n",
    "#Fixing Pandas options to display all rows\n",
    "pd.set_option('display.max_rows', 1000)\n",
    "data = pd.read_csv('train.csv')\n",
    "data.columns = [u'PassengerId', u'Survived', u'Class', u'Name', u'Gender', u'Age',\n",
    "       u'Siblings', u'Parents', u'Ticket', u'Fare', u'Cabin', u'Port']\n",
    "data = data.drop(['PassengerId', 'Cabin'], axis=1)\n",
    "#Fill missing Ages with median\n",
    "data.loc[(data.Age.isnull()), 'Age'] = data['Age'].dropna().median()"
   ]
  },
  {
   "cell_type": "markdown",
   "metadata": {},
   "source": [
    "Let's see what the data looks like! Hit **SHIFT + ENTER** on the cell below."
   ]
  },
  {
   "cell_type": "code",
   "execution_count": null,
   "metadata": {
    "collapsed": false
   },
   "outputs": [],
   "source": [
    "data.head()"
   ]
  },
  {
   "cell_type": "markdown",
   "metadata": {},
   "source": [
    "If you want to look at one column at a time, here's how we do it..."
   ]
  },
  {
   "cell_type": "markdown",
   "metadata": {},
   "source": [
    "# Were there more males or more females on the titanic?"
   ]
  },
  {
   "cell_type": "code",
   "execution_count": null,
   "metadata": {
    "collapsed": false
   },
   "outputs": [],
   "source": [
    "print 'Were there more boys or more girls on the titanic?'\n",
    "\n",
    "gender_one = '?'   #Type 'male' or 'female' here.\n",
    "gender_two = '?'   #Type 'male' or 'female' here.\n",
    "\n",
    "\n",
    "####################### Pie Chart Code #######################\n",
    "# Data to plot\n",
    "gender_one_count = data.Gender[data.Gender == gender_one].count()\n",
    "gender_two_count = data.Gender[data.Gender == gender_two].count()\n",
    "sizes = [gender_one_count, gender_two_count]\n",
    "colors = ['gold', 'yellowgreen']\n",
    "explode = (0.05, 0)  # explode 1st slice\n",
    "# Plot\n",
    "plt.pie(sizes, explode=explode, labels=(gender_one, gender_two), colors=colors, autopct='%1.1f%%', shadow=True, startangle=140) \n",
    "plt.axis('equal')\n",
    "plt.show()\n",
    "print \"There were {} {} and {} {} on the Titanic.\".format(gender_one_count, gender_one+'s', gender_two_count, gender_two+'s')"
   ]
  },
  {
   "cell_type": "markdown",
   "metadata": {},
   "source": [
    "# Did more Males or Females survive?"
   ]
  },
  {
   "cell_type": "code",
   "execution_count": null,
   "metadata": {
    "collapsed": false
   },
   "outputs": [],
   "source": [
    "print 'Did more Boys or Girls survived?'\n",
    "\n",
    "gender_one = ''   # Type 'male' or 'female' here.\n",
    "gender_two = ''   # Type 'male' or 'female' here.\n",
    "survived = ?      # Type 1 for survived or 0 for not.\n",
    "\n",
    "\n",
    "####################### Pie Chart Code #######################\n",
    "# Data to plot\n",
    "gender_one_count = data[data.Survived == survived].Gender[data.Gender == gender_one].count()\n",
    "gender_two_count = data[data.Survived == survived].Gender[data.Gender == gender_two].count()\n",
    "sizes = [gender_one_count, gender_two_count]\n",
    "colors = ['gold', 'yellowgreen']\n",
    "explode = (0.05, 0)  # explode 1st slice\n",
    "# Plot\n",
    "plt.pie(sizes, explode=explode, labels=(gender_one, gender_two), colors=colors, autopct='%1.1f%%', shadow=True, startangle=140)\n",
    "plt.axis('equal')\n",
    "plt.show()\n",
    "print \"{} {} survived and {} {} survived when the Titanic sank.\".format(gender_one_count, gender_one+'s', gender_two_count, gender_two+'s')"
   ]
  },
  {
   "cell_type": "markdown",
   "metadata": {},
   "source": [
    "# Do you think class ticket effected survival rate?"
   ]
  },
  {
   "cell_type": "code",
   "execution_count": null,
   "metadata": {
    "collapsed": false
   },
   "outputs": [],
   "source": [
    "print 'Do you think people with a higher class ticket were more likely to survive?'\n",
    "\n",
    "# Fill in the class with 1, 2, 3\n",
    "survived = data.Survived == 1\n",
    "                                # Replace ? with 1, 2, 3              # Replace ? with 1, 2, 3\n",
    "first_class = data[survived & (data.Class == 1)].Class.count()/float(len(data[data.Class == 1]))  # 1\n",
    "second_class = data[survived & (data.Class == ?)].Class.count()/float(len(data[data.Class == ?])) # 2\n",
    "third_class = data[survived & (data.Class == ?)].Class.count()/float(len(data[data.Class == ?]))  # 3\n",
    "survived = 1\n",
    "\n",
    "\n",
    "\n",
    "####################### Pie Chart Code #######################\n",
    "# Data to plot\n",
    "sizes = [first_class, second_class, third_class]\n",
    "colors = ['gold', 'yellowgreen', 'lightskyblue']\n",
    "explode = (0.05, 0, 0)  # explode 1st slice \n",
    "# Plot\n",
    "plt.pie(sizes, explode=explode, labels=('First Class', 'Second Class', 'Third Class'), colors=colors, autopct='%1.1f%%', shadow=True, startangle=140)\n",
    "plt.axis('equal')\n",
    "plt.show()"
   ]
  },
  {
   "cell_type": "markdown",
   "metadata": {},
   "source": [
    "# Decision Tree"
   ]
  },
  {
   "cell_type": "markdown",
   "metadata": {},
   "source": [
    "This is a Decision Tree, if you look at it upside down it looks like a tree."
   ]
  },
  {
   "cell_type": "markdown",
   "metadata": {},
   "source": [
    "![](Images/tree.png)"
   ]
  },
  {
   "cell_type": "markdown",
   "metadata": {},
   "source": [
    "## Eg. 20 Question or Guess Who!"
   ]
  },
  {
   "cell_type": "markdown",
   "metadata": {},
   "source": [
    "![](Images/guesswho1.JPG)"
   ]
  },
  {
   "cell_type": "code",
   "execution_count": null,
   "metadata": {
    "collapsed": false
   },
   "outputs": [],
   "source": [
    "####################### Just run me  Shift + Enter  #######################\n",
    "from sklearn.tree import DecisionTreeClassifier\n",
    "decision_tree = DecisionTreeClassifier()\n",
    "data.Gender = data.Gender.map({'female' : 0, 'male' : 1})\n",
    "data.head()"
   ]
  },
  {
   "cell_type": "markdown",
   "metadata": {},
   "source": [
    "# Lets build a decision tree with our data!  "
   ]
  },
  {
   "cell_type": "code",
   "execution_count": null,
   "metadata": {
    "collapsed": false
   },
   "outputs": [],
   "source": [
    "# Fill in '?' with 'Gender' and 'Class'\n",
    "tree = decision_tree.fit(data[['?', '?']], data['Survived'])"
   ]
  },
  {
   "cell_type": "markdown",
   "metadata": {},
   "source": [
    "# Who survived? "
   ]
  },
  {
   "cell_type": "code",
   "execution_count": null,
   "metadata": {
    "collapsed": false
   },
   "outputs": [],
   "source": [
    "# Try!\n",
    "Ticket_Class = ?  # Class 1, 2, or 3\n",
    "Male = ?   # True for males or Flase for females.\n",
    "\n",
    "####################### Decision Tree Prediction #######################\n",
    "if tree.predict([Gender, Ticket_Class])[0]: print '\\nThey survived! :) \\n'\n",
    "else: print '\\nThey did not survive :( \\n'"
   ]
  },
  {
   "cell_type": "markdown",
   "metadata": {},
   "source": [
    "# Great Job with Data Science day 1! "
   ]
  },
  {
   "cell_type": "markdown",
   "metadata": {},
   "source": [
    ":)"
   ]
  }
 ],
 "metadata": {
  "anaconda-cloud": {},
  "kernelspec": {
   "display_name": "Python [Root]",
   "language": "python",
   "name": "Python [Root]"
  },
  "language_info": {
   "codemirror_mode": {
    "name": "ipython",
    "version": 2
   },
   "file_extension": ".py",
   "mimetype": "text/x-python",
   "name": "python",
   "nbconvert_exporter": "python",
   "pygments_lexer": "ipython2",
   "version": "2.7.12"
  }
 },
 "nbformat": 4,
 "nbformat_minor": 0
}
